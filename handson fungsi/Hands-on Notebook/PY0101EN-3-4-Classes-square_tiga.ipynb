{
 "cells": [
  {
   "cell_type": "markdown",
   "metadata": {
    "colab_type": "text",
    "id": "3xgGYEAUbsVY"
   },
   "source": [
    "<img src = \"https://i.imgur.com/AKXoLze.jpg\" align = \"center\">"
   ]
  },
  {
   "cell_type": "markdown",
   "metadata": {
    "colab_type": "text",
    "id": "JNDvBxoxbsVZ"
   },
   "source": [
    "# <h1>TUGAS MEMBUAT KOTAK DAN SEGITIGA</h1>"
   ]
  },
  {
   "cell_type": "markdown",
   "metadata": {
    "colab_type": "text",
    "id": "BzvdAEqrbsVa"
   },
   "source": [
    "<p>\n",
    "    <strong>Hallo!</strong> \n",
    "    Pada bagian ini anda diminta mengimplementasikan materi OOP pada python dengan membuat kelas kotak dan segitiga. Ada beberapa yang perlu diperhatikan, diantaranya adalah :\n",
    "    <ul>\n",
    "        <li>Atribut dari kelas yang dibutuhkan</li>\n",
    "        <li>Fungsi / method apa saja yang harus ada </li>\n",
    "        <li>Visualisasi</li>\n",
    "    </ul>\n",
    "\n",
    "   Selamat mengerjakan :) .\n",
    "</p>"
   ]
  },
  {
   "cell_type": "markdown",
   "metadata": {
    "colab_type": "text",
    "id": "jxBbxNiabsVc"
   },
   "source": [
    "## <h3>KOTAK</h3>"
   ]
  },
  {
   "cell_type": "markdown",
   "metadata": {
    "colab_type": "text",
    "id": "xKu2lYQwbsVl"
   },
   "source": [
    "# <h2 id=\"creating\">Membuat Kelas Kotak</h2>"
   ]
  },
  {
   "cell_type": "markdown",
   "metadata": {
    "colab_type": "text",
    "id": "0w5uNg_3bsVm"
   },
   "source": [
    "Tahap pertama import labrary yang dibutuhkan untuk visualisasi : "
   ]
  },
  {
   "cell_type": "code",
   "execution_count": 1,
   "metadata": {
    "colab": {},
    "colab_type": "code",
    "id": "0qkCqpXBbsVn"
   },
   "outputs": [],
   "source": [
    "# Import the library\n",
    "\n",
    "import matplotlib.pyplot as plt\n",
    "%matplotlib inline  "
   ]
  },
  {
   "cell_type": "markdown",
   "metadata": {
    "colab_type": "text",
    "id": "jxBbxNiabsVc"
   },
   "source": [
    "## <h3>Contoh membuat kelas Circe</h3>"
   ]
  },
  {
   "cell_type": "markdown",
   "metadata": {
    "colab_type": "text",
    "id": "tZkDjKlpbsVu"
   },
   "source": [
    "<img src=\"https://s3-api.us-geo.objectstorage.softlayer.net/cf-courses-data/CognitiveClass/PY0101EN/Chapter%203/Images/ClassesCircle.png\" width=\"600\" />"
   ]
  },
  {
   "cell_type": "code",
   "execution_count": 2,
   "metadata": {
    "colab": {},
    "colab_type": "code",
    "id": "nYOrB4i6bsVw"
   },
   "outputs": [],
   "source": [
    "# Silahkan tuliskan kode anda dibawah ini\n",
    "\n"
   ]
  },
  {
   "cell_type": "markdown",
   "metadata": {
    "colab_type": "text",
    "id": "1niGVMVtbsVz"
   },
   "source": [
    "<hr>"
   ]
  },
  {
   "cell_type": "markdown",
   "metadata": {
    "colab_type": "text",
    "id": "NKMUhCAUbsV0"
   },
   "source": [
    "# <h2 id=\"circle\">Jika kelas kotak sudah dibuat, silahkan buat objeknya dibawah ini: </h2>"
   ]
  },
  {
   "cell_type": "code",
   "execution_count": 2,
   "metadata": {
    "colab": {},
    "colab_type": "code",
    "id": "nYOrB4i6bsVw"
   },
   "outputs": [],
   "source": [
    "# Silahkan tuliskan kode anda dibawah ini\n",
    "\n"
   ]
  },
  {
   "cell_type": "markdown",
   "metadata": {
    "colab_type": "text",
    "id": "tDUeDl6GbsV7"
   },
   "source": [
    "Print setiap atribut yang ada pada kelas kotak: "
   ]
  },
  {
   "cell_type": "code",
   "execution_count": null,
   "metadata": {
    "colab": {
     "base_uri": "https://localhost:8080/",
     "height": 34
    },
    "colab_type": "code",
    "executionInfo": {
     "elapsed": 2308,
     "status": "ok",
     "timestamp": 1561296032312,
     "user": {
      "displayName": "Dennis Aprilla Christie",
      "photoUrl": "https://lh3.googleusercontent.com/-W_6VdV2VWBM/AAAAAAAAAAI/AAAAAAAADr0/Jovfu3kCHdA/s64/photo.jpg",
      "userId": "09637515618974467169"
     },
     "user_tz": -420
    },
    "id": "EsxkCM3mbsV8",
    "outputId": "ce843f1f-78b1-423b-e5bd-a30f6861536e"
   },
   "outputs": [],
   "source": [
    "# contoh syntax : RedCircle.radius\n",
    "# Silahkan tuliskan kode anda dibawah ini\n"
   ]
  },
  {
   "cell_type": "markdown",
   "metadata": {
    "colab_type": "text",
    "id": "p5MNMc8XbsWA"
   },
   "source": [
    "Silahkan rubah nilai data pada atribut, lalu tampilkan hasilnya: "
   ]
  },
  {
   "cell_type": "code",
   "execution_count": null,
   "metadata": {
    "colab": {
     "base_uri": "https://localhost:8080/",
     "height": 34
    },
    "colab_type": "code",
    "executionInfo": {
     "elapsed": 2308,
     "status": "ok",
     "timestamp": 1561296032315,
     "user": {
      "displayName": "Dennis Aprilla Christie",
      "photoUrl": "https://lh3.googleusercontent.com/-W_6VdV2VWBM/AAAAAAAAAAI/AAAAAAAADr0/Jovfu3kCHdA/s64/photo.jpg",
      "userId": "09637515618974467169"
     },
     "user_tz": -420
    },
    "id": "GAHOxBYmbsWA",
    "outputId": "766beea5-6914-425a-acf4-c79bd9c9a230"
   },
   "outputs": [],
   "source": [
    "#Contoh Syntax\n",
    "#RedCircle.radius = 1\n",
    "#RedCircle.radius\n",
    "\n",
    "#Silahkan tuliskan kode anda dibawah ini\n"
   ]
  },
  {
   "cell_type": "markdown",
   "metadata": {
    "colab_type": "text",
    "id": "58hqnIRYbsWC"
   },
   "source": [
    "Jangan lupa Buat Fungsi <code>draw()</code>: pada kelas untuk visualisasi gambar\n"
   ]
  },
  {
   "cell_type": "code",
   "execution_count": 4,
   "metadata": {
    "colab": {
     "base_uri": "https://localhost:8080/",
     "height": 269
    },
    "colab_type": "code",
    "executionInfo": {
     "elapsed": 2308,
     "status": "ok",
     "timestamp": 1561296032316,
     "user": {
      "displayName": "Dennis Aprilla Christie",
      "photoUrl": "https://lh3.googleusercontent.com/-W_6VdV2VWBM/AAAAAAAAAAI/AAAAAAAADr0/Jovfu3kCHdA/s64/photo.jpg",
      "userId": "09637515618974467169"
     },
     "user_tz": -420
    },
    "id": "iKuKkU5ebsWE",
    "outputId": "1079a3f2-29d5-4c8a-cc4b-1c58b4cb49ba"
   },
   "outputs": [],
   "source": [
    "# Contoh Method\n",
    "#def drawRectangle(self):\n",
    " #   plt.gca().add_patch(plt.Rectangle((0, 0), self.width, self.height ,fc=self.color))\n",
    " #   plt.axis('scaled')\n",
    " #   plt.show()# Call the method drawCircle\n",
    "    \n",
    "#Syntax cara memanggil fungsi : \n",
    "#namaObjek.namafungsi()\n",
    "\n",
    "#Silahkan tuliskan kode anda dibawah ini\n",
    "\n"
   ]
  },
  {
   "cell_type": "markdown",
   "metadata": {
    "colab_type": "text",
    "id": "ZErhdI8XbsWH"
   },
   "source": [
    "Ulangi prosedur diatas untuk membuat Kelas Segitiga dengan mengikuti langkah seperti Kelas Kotak. Gunakan tanda plus untuk menambahkan cell code maupun markdown jika dibutuhkan :))  "
   ]
  },
  {
   "cell_type": "markdown",
   "metadata": {
    "colab_type": "text",
    "id": "PqjN6MDibsXH"
   },
   "source": [
    "<hr>\n",
    "<h2>Terima kasih Banyak!</h2>\n",
    "</hr>"
   ]
  }
 ],
 "metadata": {
  "colab": {
   "name": "PY0101EN-3-4-Classes.ipynb",
   "provenance": [],
   "toc_visible": true,
   "version": "0.3.2"
  },
  "kernelspec": {
   "display_name": "conda_python3",
   "language": "python",
   "name": "conda_python3"
  },
  "language_info": {
   "codemirror_mode": {
    "name": "ipython",
    "version": 3
   },
   "file_extension": ".py",
   "mimetype": "text/x-python",
   "name": "python",
   "nbconvert_exporter": "python",
   "pygments_lexer": "ipython3",
   "version": "3.6.5"
  }
 },
 "nbformat": 4,
 "nbformat_minor": 1
}
