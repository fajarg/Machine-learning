{
  "nbformat": 4,
  "nbformat_minor": 0,
  "metadata": {
    "colab": {
      "name": "templateTugas3.ipynb",
      "provenance": [],
      "collapsed_sections": []
    },
    "kernelspec": {
      "name": "python3",
      "display_name": "Python 3"
    }
  },
  "cells": [
    {
      "cell_type": "markdown",
      "metadata": {
        "id": "9OjeMgmaJEEe",
        "colab_type": "text"
      },
      "source": [
        "Nama : Fajar G 1151700010"
      ]
    },
    {
      "cell_type": "code",
      "metadata": {
        "id": "GW5JN3BBJHjC",
        "colab_type": "code",
        "colab": {}
      },
      "source": [
        "# import library yang dibutuhkan\n",
        "\n",
        "import pandas as pd\n",
        "import pylab as pl\n",
        "import numpy as np\n",
        "import scipy.optimize as opt\n",
        "from sklearn import preprocessing\n",
        "%matplotlib inline \n",
        "import matplotlib.pyplot as plt"
      ],
      "execution_count": 0,
      "outputs": []
    },
    {
      "cell_type": "code",
      "metadata": {
        "id": "RmOVMJjhKEX4",
        "colab_type": "code",
        "outputId": "081fcc6e-11a0-425e-bd50-0848993cb1ec",
        "colab": {
          "base_uri": "https://localhost:8080/",
          "height": 204
        }
      },
      "source": [
        "!wget -O file.csv https://raw.githubusercontent.com/solehT10/Data-Gizi-Buruk/master/Kel%20Batuceper%20file.csv"
      ],
      "execution_count": 2,
      "outputs": [
        {
          "output_type": "stream",
          "text": [
            "--2019-11-11 07:23:20--  https://raw.githubusercontent.com/solehT10/Data-Gizi-Buruk/master/Kel%20Batuceper%20file.csv\n",
            "Resolving raw.githubusercontent.com (raw.githubusercontent.com)... 151.101.0.133, 151.101.64.133, 151.101.128.133, ...\n",
            "Connecting to raw.githubusercontent.com (raw.githubusercontent.com)|151.101.0.133|:443... connected.\n",
            "HTTP request sent, awaiting response... 200 OK\n",
            "Length: 18669 (18K) [text/plain]\n",
            "Saving to: ‘file.csv’\n",
            "\n",
            "\rfile.csv              0%[                    ]       0  --.-KB/s               \rfile.csv            100%[===================>]  18.23K  --.-KB/s    in 0.01s   \n",
            "\n",
            "2019-11-11 07:23:20 (1.44 MB/s) - ‘file.csv’ saved [18669/18669]\n",
            "\n"
          ],
          "name": "stdout"
        }
      ]
    },
    {
      "cell_type": "code",
      "metadata": {
        "id": "Pq8vBCQ0WSTv",
        "colab_type": "code",
        "colab": {
          "base_uri": "https://localhost:8080/",
          "height": 204
        },
        "outputId": "9bbb4cfa-9554-4112-ec19-799f5c66c809"
      },
      "source": [
        "churn_df = pd.read_csv(\"file.csv\")\n",
        "churn_df.head()"
      ],
      "execution_count": 4,
      "outputs": [
        {
          "output_type": "execute_result",
          "data": {
            "text/html": [
              "<div>\n",
              "<style scoped>\n",
              "    .dataframe tbody tr th:only-of-type {\n",
              "        vertical-align: middle;\n",
              "    }\n",
              "\n",
              "    .dataframe tbody tr th {\n",
              "        vertical-align: top;\n",
              "    }\n",
              "\n",
              "    .dataframe thead th {\n",
              "        text-align: right;\n",
              "    }\n",
              "</style>\n",
              "<table border=\"1\" class=\"dataframe\">\n",
              "  <thead>\n",
              "    <tr style=\"text-align: right;\">\n",
              "      <th></th>\n",
              "      <th>No</th>\n",
              "      <th>jenis kelamin</th>\n",
              "      <th>BBTB</th>\n",
              "      <th>BBU</th>\n",
              "      <th>TBU</th>\n",
              "      <th>Status gizi</th>\n",
              "      <th>Unnamed: 6</th>\n",
              "    </tr>\n",
              "  </thead>\n",
              "  <tbody>\n",
              "    <tr>\n",
              "      <th>0</th>\n",
              "      <td>1</td>\n",
              "      <td>L</td>\n",
              "      <td>0.35</td>\n",
              "      <td>0.65</td>\n",
              "      <td>-0.27</td>\n",
              "      <td>1</td>\n",
              "      <td>NaN</td>\n",
              "    </tr>\n",
              "    <tr>\n",
              "      <th>1</th>\n",
              "      <td>2</td>\n",
              "      <td>L</td>\n",
              "      <td>0.41</td>\n",
              "      <td>1.19</td>\n",
              "      <td>-0.75</td>\n",
              "      <td>1</td>\n",
              "      <td>NaN</td>\n",
              "    </tr>\n",
              "    <tr>\n",
              "      <th>2</th>\n",
              "      <td>3</td>\n",
              "      <td>L</td>\n",
              "      <td>-0.02</td>\n",
              "      <td>-0.38</td>\n",
              "      <td>0.31</td>\n",
              "      <td>1</td>\n",
              "      <td>NaN</td>\n",
              "    </tr>\n",
              "    <tr>\n",
              "      <th>3</th>\n",
              "      <td>4</td>\n",
              "      <td>L</td>\n",
              "      <td>-0.43</td>\n",
              "      <td>-0.64</td>\n",
              "      <td>0.04</td>\n",
              "      <td>1</td>\n",
              "      <td>NaN</td>\n",
              "    </tr>\n",
              "    <tr>\n",
              "      <th>4</th>\n",
              "      <td>5</td>\n",
              "      <td>L</td>\n",
              "      <td>-0.84</td>\n",
              "      <td>1.11</td>\n",
              "      <td>-2.07</td>\n",
              "      <td>1</td>\n",
              "      <td>NaN</td>\n",
              "    </tr>\n",
              "  </tbody>\n",
              "</table>\n",
              "</div>"
            ],
            "text/plain": [
              "   No jenis kelamin  BBTB   BBU   TBU  Status gizi  Unnamed: 6\n",
              "0   1             L  0.35  0.65 -0.27            1         NaN\n",
              "1   2             L  0.41  1.19 -0.75            1         NaN\n",
              "2   3             L -0.02 -0.38  0.31            1         NaN\n",
              "3   4             L -0.43 -0.64  0.04            1         NaN\n",
              "4   5             L -0.84  1.11 -2.07            1         NaN"
            ]
          },
          "metadata": {
            "tags": []
          },
          "execution_count": 4
        }
      ]
    },
    {
      "cell_type": "code",
      "metadata": {
        "id": "OJ_PWZtgWXsH",
        "colab_type": "code",
        "colab": {
          "base_uri": "https://localhost:8080/",
          "height": 204
        },
        "outputId": "91857feb-fa06-4592-c08b-a3bad7810e03"
      },
      "source": [
        "churn_df = churn_df[['BBTB', 'BBU', 'TBU', 'Status gizi']]\n",
        "churn_df['Status gizi'] = churn_df['Status gizi'].astype('int')\n",
        "churn_df.head()"
      ],
      "execution_count": 6,
      "outputs": [
        {
          "output_type": "execute_result",
          "data": {
            "text/html": [
              "<div>\n",
              "<style scoped>\n",
              "    .dataframe tbody tr th:only-of-type {\n",
              "        vertical-align: middle;\n",
              "    }\n",
              "\n",
              "    .dataframe tbody tr th {\n",
              "        vertical-align: top;\n",
              "    }\n",
              "\n",
              "    .dataframe thead th {\n",
              "        text-align: right;\n",
              "    }\n",
              "</style>\n",
              "<table border=\"1\" class=\"dataframe\">\n",
              "  <thead>\n",
              "    <tr style=\"text-align: right;\">\n",
              "      <th></th>\n",
              "      <th>BBTB</th>\n",
              "      <th>BBU</th>\n",
              "      <th>TBU</th>\n",
              "      <th>Status gizi</th>\n",
              "    </tr>\n",
              "  </thead>\n",
              "  <tbody>\n",
              "    <tr>\n",
              "      <th>0</th>\n",
              "      <td>0.35</td>\n",
              "      <td>0.65</td>\n",
              "      <td>-0.27</td>\n",
              "      <td>1</td>\n",
              "    </tr>\n",
              "    <tr>\n",
              "      <th>1</th>\n",
              "      <td>0.41</td>\n",
              "      <td>1.19</td>\n",
              "      <td>-0.75</td>\n",
              "      <td>1</td>\n",
              "    </tr>\n",
              "    <tr>\n",
              "      <th>2</th>\n",
              "      <td>-0.02</td>\n",
              "      <td>-0.38</td>\n",
              "      <td>0.31</td>\n",
              "      <td>1</td>\n",
              "    </tr>\n",
              "    <tr>\n",
              "      <th>3</th>\n",
              "      <td>-0.43</td>\n",
              "      <td>-0.64</td>\n",
              "      <td>0.04</td>\n",
              "      <td>1</td>\n",
              "    </tr>\n",
              "    <tr>\n",
              "      <th>4</th>\n",
              "      <td>-0.84</td>\n",
              "      <td>1.11</td>\n",
              "      <td>-2.07</td>\n",
              "      <td>1</td>\n",
              "    </tr>\n",
              "  </tbody>\n",
              "</table>\n",
              "</div>"
            ],
            "text/plain": [
              "   BBTB   BBU   TBU  Status gizi\n",
              "0  0.35  0.65 -0.27            1\n",
              "1  0.41  1.19 -0.75            1\n",
              "2 -0.02 -0.38  0.31            1\n",
              "3 -0.43 -0.64  0.04            1\n",
              "4 -0.84  1.11 -2.07            1"
            ]
          },
          "metadata": {
            "tags": []
          },
          "execution_count": 6
        }
      ]
    },
    {
      "cell_type": "code",
      "metadata": {
        "id": "tgQXnbLFW3Wn",
        "colab_type": "code",
        "colab": {
          "base_uri": "https://localhost:8080/",
          "height": 102
        },
        "outputId": "f34aab99-0326-4fa2-9a57-527b5c24d359"
      },
      "source": [
        "X = np.asarray(churn_df[['BBTB', 'BBU', 'TBU']])\n",
        "X[0:5]"
      ],
      "execution_count": 8,
      "outputs": [
        {
          "output_type": "execute_result",
          "data": {
            "text/plain": [
              "array([[ 0.35,  0.65, -0.27],\n",
              "       [ 0.41,  1.19, -0.75],\n",
              "       [-0.02, -0.38,  0.31],\n",
              "       [-0.43, -0.64,  0.04],\n",
              "       [-0.84,  1.11, -2.07]])"
            ]
          },
          "metadata": {
            "tags": []
          },
          "execution_count": 8
        }
      ]
    },
    {
      "cell_type": "code",
      "metadata": {
        "id": "aqZtmhpOXUI2",
        "colab_type": "code",
        "colab": {
          "base_uri": "https://localhost:8080/",
          "height": 34
        },
        "outputId": "a9fe9d2d-534d-4939-ea25-276bb73cfb0f"
      },
      "source": [
        "y = np.asarray(churn_df['Status gizi'])\n",
        "y [0:5]"
      ],
      "execution_count": 9,
      "outputs": [
        {
          "output_type": "execute_result",
          "data": {
            "text/plain": [
              "array([1, 1, 1, 1, 1])"
            ]
          },
          "metadata": {
            "tags": []
          },
          "execution_count": 9
        }
      ]
    },
    {
      "cell_type": "code",
      "metadata": {
        "id": "XGkqU2V1XfMM",
        "colab_type": "code",
        "colab": {
          "base_uri": "https://localhost:8080/",
          "height": 102
        },
        "outputId": "caa46565-613a-42e6-dcc6-2ad52c3656a2"
      },
      "source": [
        "from sklearn import preprocessing\n",
        "X = preprocessing.StandardScaler().fit(X).transform(X)\n",
        "X[0:5]"
      ],
      "execution_count": 10,
      "outputs": [
        {
          "output_type": "execute_result",
          "data": {
            "text/plain": [
              "array([[ 0.25578886,  0.51624811, -0.18403113],\n",
              "       [ 0.27852184,  0.61812331, -0.3058653 ],\n",
              "       [ 0.11560214,  0.32193062, -0.03681483],\n",
              "       [-0.03973991,  0.2728796 , -0.10534655],\n",
              "       [-0.19508195,  0.60303069, -0.64090929]])"
            ]
          },
          "metadata": {
            "tags": []
          },
          "execution_count": 10
        }
      ]
    },
    {
      "cell_type": "code",
      "metadata": {
        "id": "eSQrWvC6Xj_g",
        "colab_type": "code",
        "colab": {
          "base_uri": "https://localhost:8080/",
          "height": 51
        },
        "outputId": "4577fbef-73fb-43dd-bec4-664507386230"
      },
      "source": [
        "from sklearn.model_selection import train_test_split\n",
        "X_train, X_test, y_train, y_test = train_test_split( X, y, test_size=0.2, random_state=4)\n",
        "print ('Train set:', X_train.shape,  y_train.shape)\n",
        "print ('Test set:', X_test.shape,  y_test.shape)"
      ],
      "execution_count": 11,
      "outputs": [
        {
          "output_type": "stream",
          "text": [
            "Train set: (566, 3) (566,)\n",
            "Test set: (142, 3) (142,)\n"
          ],
          "name": "stdout"
        }
      ]
    },
    {
      "cell_type": "code",
      "metadata": {
        "id": "_UsQNt8GXn5W",
        "colab_type": "code",
        "colab": {
          "base_uri": "https://localhost:8080/",
          "height": 102
        },
        "outputId": "d4215cf8-ce4d-4952-9b56-2c4dd9162324"
      },
      "source": [
        "from sklearn.linear_model import LogisticRegression\n",
        "from sklearn.metrics import confusion_matrix\n",
        "LR = LogisticRegression(C=0.01, solver='liblinear').fit(X_train,y_train)\n",
        "LR"
      ],
      "execution_count": 12,
      "outputs": [
        {
          "output_type": "execute_result",
          "data": {
            "text/plain": [
              "LogisticRegression(C=0.01, class_weight=None, dual=False, fit_intercept=True,\n",
              "                   intercept_scaling=1, l1_ratio=None, max_iter=100,\n",
              "                   multi_class='warn', n_jobs=None, penalty='l2',\n",
              "                   random_state=None, solver='liblinear', tol=0.0001, verbose=0,\n",
              "                   warm_start=False)"
            ]
          },
          "metadata": {
            "tags": []
          },
          "execution_count": 12
        }
      ]
    },
    {
      "cell_type": "code",
      "metadata": {
        "id": "IY1dFkwSXsPr",
        "colab_type": "code",
        "colab": {
          "base_uri": "https://localhost:8080/",
          "height": 136
        },
        "outputId": "ffd42045-dc4f-4593-af8d-45f48a269e02"
      },
      "source": [
        "yhat = LR.predict(X_test)\n",
        "yhat"
      ],
      "execution_count": 13,
      "outputs": [
        {
          "output_type": "execute_result",
          "data": {
            "text/plain": [
              "array([1, 1, 1, 2, 1, 1, 1, 1, 1, 1, 1, 1, 1, 1, 1, 1, 1, 1, 1, 1, 1, 1,\n",
              "       1, 1, 1, 1, 2, 1, 1, 1, 1, 1, 1, 1, 2, 1, 1, 1, 1, 1, 1, 2, 1, 1,\n",
              "       1, 1, 1, 1, 1, 1, 2, 1, 1, 1, 1, 1, 1, 1, 1, 1, 1, 1, 1, 1, 2, 1,\n",
              "       1, 2, 1, 2, 1, 1, 1, 1, 1, 1, 1, 1, 1, 1, 1, 1, 2, 1, 1, 1, 1, 1,\n",
              "       1, 1, 1, 1, 1, 2, 1, 1, 1, 1, 1, 1, 1, 1, 1, 2, 2, 1, 1, 1, 1, 1,\n",
              "       1, 1, 2, 1, 2, 1, 1, 1, 1, 1, 1, 1, 2, 2, 2, 1, 1, 1, 1, 1, 1, 1,\n",
              "       1, 1, 1, 1, 1, 1, 1, 1, 1, 1])"
            ]
          },
          "metadata": {
            "tags": []
          },
          "execution_count": 13
        }
      ]
    },
    {
      "cell_type": "code",
      "metadata": {
        "id": "gqblJZqjXxYo",
        "colab_type": "code",
        "colab": {
          "base_uri": "https://localhost:8080/",
          "height": 1000
        },
        "outputId": "1c82ef44-9250-4170-c62b-b7ed226d8c3f"
      },
      "source": [
        "yhat_prob = LR.predict_proba(X_test)\n",
        "yhat_prob"
      ],
      "execution_count": 14,
      "outputs": [
        {
          "output_type": "execute_result",
          "data": {
            "text/plain": [
              "array([[0.67338079, 0.32661921],\n",
              "       [0.90507916, 0.09492084],\n",
              "       [0.72271641, 0.27728359],\n",
              "       [0.27543863, 0.72456137],\n",
              "       [0.7802583 , 0.2197417 ],\n",
              "       [0.63368126, 0.36631874],\n",
              "       [0.66155393, 0.33844607],\n",
              "       [0.60007768, 0.39992232],\n",
              "       [0.69378872, 0.30621128],\n",
              "       [0.56059908, 0.43940092],\n",
              "       [0.69535118, 0.30464882],\n",
              "       [0.65252015, 0.34747985],\n",
              "       [0.71227677, 0.28772323],\n",
              "       [0.69446499, 0.30553501],\n",
              "       [0.62486739, 0.37513261],\n",
              "       [0.62773284, 0.37226716],\n",
              "       [0.67007961, 0.32992039],\n",
              "       [0.75334134, 0.24665866],\n",
              "       [0.71179783, 0.28820217],\n",
              "       [0.7496483 , 0.2503517 ],\n",
              "       [0.71911737, 0.28088263],\n",
              "       [0.65381696, 0.34618304],\n",
              "       [0.58176088, 0.41823912],\n",
              "       [0.59051922, 0.40948078],\n",
              "       [0.51109084, 0.48890916],\n",
              "       [0.71428926, 0.28571074],\n",
              "       [0.39426825, 0.60573175],\n",
              "       [0.62781336, 0.37218664],\n",
              "       [0.65086829, 0.34913171],\n",
              "       [0.57555489, 0.42444511],\n",
              "       [0.74046039, 0.25953961],\n",
              "       [0.73221223, 0.26778777],\n",
              "       [0.73227646, 0.26772354],\n",
              "       [0.6423796 , 0.3576204 ],\n",
              "       [0.36603981, 0.63396019],\n",
              "       [0.65294057, 0.34705943],\n",
              "       [0.66238576, 0.33761424],\n",
              "       [0.66403316, 0.33596684],\n",
              "       [0.71406977, 0.28593023],\n",
              "       [0.74835544, 0.25164456],\n",
              "       [0.74425615, 0.25574385],\n",
              "       [0.39172445, 0.60827555],\n",
              "       [0.63833318, 0.36166682],\n",
              "       [0.63802312, 0.36197688],\n",
              "       [0.76589643, 0.23410357],\n",
              "       [0.78592113, 0.21407887],\n",
              "       [0.77491162, 0.22508838],\n",
              "       [0.6802618 , 0.3197382 ],\n",
              "       [0.77711574, 0.22288426],\n",
              "       [0.57608022, 0.42391978],\n",
              "       [0.30815097, 0.69184903],\n",
              "       [0.82004703, 0.17995297],\n",
              "       [0.64302335, 0.35697665],\n",
              "       [0.68689082, 0.31310918],\n",
              "       [0.5880024 , 0.4119976 ],\n",
              "       [0.63723962, 0.36276038],\n",
              "       [0.66944263, 0.33055737],\n",
              "       [0.66703873, 0.33296127],\n",
              "       [0.63605353, 0.36394647],\n",
              "       [0.77603951, 0.22396049],\n",
              "       [0.71840853, 0.28159147],\n",
              "       [0.70809715, 0.29190285],\n",
              "       [0.74249286, 0.25750714],\n",
              "       [0.71392488, 0.28607512],\n",
              "       [0.34404044, 0.65595956],\n",
              "       [0.62563633, 0.37436367],\n",
              "       [0.71673202, 0.28326798],\n",
              "       [0.31849555, 0.68150445],\n",
              "       [0.78959872, 0.21040128],\n",
              "       [0.34498786, 0.65501214],\n",
              "       [0.70526796, 0.29473204],\n",
              "       [0.71413101, 0.28586899],\n",
              "       [0.72985572, 0.27014428],\n",
              "       [0.58168634, 0.41831366],\n",
              "       [0.62357261, 0.37642739],\n",
              "       [0.65689011, 0.34310989],\n",
              "       [0.98060015, 0.01939985],\n",
              "       [0.65062773, 0.34937227],\n",
              "       [0.83343619, 0.16656381],\n",
              "       [0.66908555, 0.33091445],\n",
              "       [0.71287303, 0.28712697],\n",
              "       [0.70237591, 0.29762409],\n",
              "       [0.38315238, 0.61684762],\n",
              "       [0.67065221, 0.32934779],\n",
              "       [0.66050828, 0.33949172],\n",
              "       [0.65820102, 0.34179898],\n",
              "       [0.6671647 , 0.3328353 ],\n",
              "       [0.72935558, 0.27064442],\n",
              "       [0.66939925, 0.33060075],\n",
              "       [0.62882688, 0.37117312],\n",
              "       [0.6220631 , 0.3779369 ],\n",
              "       [0.66745281, 0.33254719],\n",
              "       [0.70987087, 0.29012913],\n",
              "       [0.31210729, 0.68789271],\n",
              "       [0.6944357 , 0.3055643 ],\n",
              "       [0.68632404, 0.31367596],\n",
              "       [0.7080128 , 0.2919872 ],\n",
              "       [0.71233713, 0.28766287],\n",
              "       [0.72282779, 0.27717221],\n",
              "       [0.59950979, 0.40049021],\n",
              "       [0.67957464, 0.32042536],\n",
              "       [0.6512703 , 0.3487297 ],\n",
              "       [0.62506233, 0.37493767],\n",
              "       [0.32678554, 0.67321446],\n",
              "       [0.07330174, 0.92669826],\n",
              "       [0.84954477, 0.15045523],\n",
              "       [0.77059341, 0.22940659],\n",
              "       [0.66007454, 0.33992546],\n",
              "       [0.67478649, 0.32521351],\n",
              "       [0.56972569, 0.43027431],\n",
              "       [0.79340429, 0.20659571],\n",
              "       [0.65128378, 0.34871622],\n",
              "       [0.42836735, 0.57163265],\n",
              "       [0.67983756, 0.32016244],\n",
              "       [0.26400887, 0.73599113],\n",
              "       [0.65021995, 0.34978005],\n",
              "       [0.76392527, 0.23607473],\n",
              "       [0.72117745, 0.27882255],\n",
              "       [0.61414888, 0.38585112],\n",
              "       [0.81618634, 0.18381366],\n",
              "       [0.82817209, 0.17182791],\n",
              "       [0.64943937, 0.35056063],\n",
              "       [0.23576053, 0.76423947],\n",
              "       [0.28289104, 0.71710896],\n",
              "       [0.32975955, 0.67024045],\n",
              "       [0.88614744, 0.11385256],\n",
              "       [0.83375776, 0.16624224],\n",
              "       [0.5681251 , 0.4318749 ],\n",
              "       [0.61914942, 0.38085058],\n",
              "       [0.68424102, 0.31575898],\n",
              "       [0.77170056, 0.22829944],\n",
              "       [0.69644249, 0.30355751],\n",
              "       [0.67479935, 0.32520065],\n",
              "       [0.62654679, 0.37345321],\n",
              "       [0.60320173, 0.39679827],\n",
              "       [0.66448926, 0.33551074],\n",
              "       [0.64296106, 0.35703894],\n",
              "       [0.69913937, 0.30086063],\n",
              "       [0.59045094, 0.40954906],\n",
              "       [0.76327488, 0.23672512],\n",
              "       [0.69879925, 0.30120075],\n",
              "       [0.66026209, 0.33973791]])"
            ]
          },
          "metadata": {
            "tags": []
          },
          "execution_count": 14
        }
      ]
    },
    {
      "cell_type": "code",
      "metadata": {
        "id": "5bV8AK7rX6gh",
        "colab_type": "code",
        "colab": {
          "base_uri": "https://localhost:8080/",
          "height": 88
        },
        "outputId": "837b5d67-c0e0-4a5a-9979-9de7f132b975"
      },
      "source": [
        "from sklearn.metrics import jaccard_similarity_score\n",
        "jaccard_similarity_score(y_test, yhat)"
      ],
      "execution_count": 15,
      "outputs": [
        {
          "output_type": "stream",
          "text": [
            "/usr/local/lib/python3.6/dist-packages/sklearn/metrics/classification.py:635: DeprecationWarning: jaccard_similarity_score has been deprecated and replaced with jaccard_score. It will be removed in version 0.23. This implementation has surprising behavior for binary and multiclass classification tasks.\n",
            "  'and multiclass classification tasks.', DeprecationWarning)\n"
          ],
          "name": "stderr"
        },
        {
          "output_type": "execute_result",
          "data": {
            "text/plain": [
              "0.852112676056338"
            ]
          },
          "metadata": {
            "tags": []
          },
          "execution_count": 15
        }
      ]
    },
    {
      "cell_type": "code",
      "metadata": {
        "id": "SJsCzgNDX-5S",
        "colab_type": "code",
        "colab": {
          "base_uri": "https://localhost:8080/",
          "height": 51
        },
        "outputId": "3d77b4be-7a81-4372-8aa0-331c3ed8fd10"
      },
      "source": [
        "from sklearn.metrics import classification_report, confusion_matrix\n",
        "import itertools\n",
        "def plot_confusion_matrix(cm, classes,\n",
        "                          normalize=False,\n",
        "                          title='Confusion matrix',\n",
        "                          cmap=plt.cm.Blues):\n",
        "    \"\"\"\n",
        "    This function prints and plots the confusion matrix.\n",
        "    Normalization can be applied by setting `normalize=True`.\n",
        "    \"\"\"\n",
        "    if normalize:\n",
        "        cm = cm.astype('float') / cm.sum(axis=1)[:, np.newaxis]\n",
        "        print(\"Normalized confusion matrix\")\n",
        "    else:\n",
        "        print('Confusion matrix, without normalization')\n",
        "\n",
        "    print(cm)\n",
        "\n",
        "    plt.imshow(cm, interpolation='nearest', cmap=cmap)\n",
        "    plt.title(title)\n",
        "    plt.colorbar()\n",
        "    tick_marks = np.arange(len(classes))\n",
        "    plt.xticks(tick_marks, classes, rotation=45)\n",
        "    plt.yticks(tick_marks, classes)\n",
        "\n",
        "    fmt = '.2f' if normalize else 'd'\n",
        "    thresh = cm.max() / 2.\n",
        "    for i, j in itertools.product(range(cm.shape[0]), range(cm.shape[1])):\n",
        "        plt.text(j, i, format(cm[i, j], fmt),\n",
        "                 horizontalalignment=\"center\",\n",
        "                 color=\"white\" if cm[i, j] > thresh else \"black\")\n",
        "\n",
        "    plt.tight_layout()\n",
        "    plt.ylabel('True label')\n",
        "    plt.xlabel('Predicted label')\n",
        "print(confusion_matrix(y_test, yhat, labels=[1,0]))"
      ],
      "execution_count": 16,
      "outputs": [
        {
          "output_type": "stream",
          "text": [
            "[[104   0]\n",
            " [  0   0]]\n"
          ],
          "name": "stdout"
        }
      ]
    },
    {
      "cell_type": "code",
      "metadata": {
        "id": "TWQuAh4tYEoU",
        "colab_type": "code",
        "colab": {
          "base_uri": "https://localhost:8080/",
          "height": 348
        },
        "outputId": "7169c5c1-9752-44d9-b926-38a85676bd7c"
      },
      "source": [
        "# Compute confusion matrix\n",
        "cnf_matrix = confusion_matrix(y_test, yhat, labels=[1,0])\n",
        "np.set_printoptions(precision=2)\n",
        "\n",
        "\n",
        "# Plot non-normalized confusion matrix\n",
        "plt.figure()\n",
        "plot_confusion_matrix(cnf_matrix, classes=['Status gizi=1','Status gizi=0'],normalize= False,  title='Confusion matrix')"
      ],
      "execution_count": 18,
      "outputs": [
        {
          "output_type": "stream",
          "text": [
            "Confusion matrix, without normalization\n",
            "[[104   0]\n",
            " [  0   0]]\n"
          ],
          "name": "stdout"
        },
        {
          "output_type": "display_data",
          "data": {
            "image/png": "[encoded data removed]",
            "text/plain": [
              "<Figure size 432x288 with 2 Axes>"
            ]
          },
          "metadata": {
            "tags": []
          }
        }
      ]
    },
    {
      "cell_type": "code",
      "metadata": {
        "id": "pgbEWiLkY3r8",
        "colab_type": "code",
        "colab": {
          "base_uri": "https://localhost:8080/",
          "height": 170
        },
        "outputId": "d869cce4-5e5c-478a-d82c-1a275d8129eb"
      },
      "source": [
        "print (classification_report(y_test, yhat))"
      ],
      "execution_count": 19,
      "outputs": [
        {
          "output_type": "stream",
          "text": [
            "              precision    recall  f1-score   support\n",
            "\n",
            "           1       0.83      1.00      0.91       104\n",
            "           2       1.00      0.45      0.62        38\n",
            "\n",
            "    accuracy                           0.85       142\n",
            "   macro avg       0.92      0.72      0.76       142\n",
            "weighted avg       0.88      0.85      0.83       142\n",
            "\n"
          ],
          "name": "stdout"
        }
      ]
    },
    {
      "cell_type": "code",
      "metadata": {
        "id": "DthzYGpiYKFr",
        "colab_type": "code",
        "colab": {
          "base_uri": "https://localhost:8080/",
          "height": 34
        },
        "outputId": "8ebb3a5e-8ecd-411f-d7f1-edd4978b5b86"
      },
      "source": [
        "from sklearn.metrics import log_loss\n",
        "log_loss(y_test, yhat_prob)"
      ],
      "execution_count": 20,
      "outputs": [
        {
          "output_type": "execute_result",
          "data": {
            "text/plain": [
              "0.5071604816894179"
            ]
          },
          "metadata": {
            "tags": []
          },
          "execution_count": 20
        }
      ]
    }
  ]
}