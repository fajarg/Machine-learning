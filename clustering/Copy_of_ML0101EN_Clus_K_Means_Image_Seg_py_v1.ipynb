{
  "nbformat": 4,
  "nbformat_minor": 0,
  "metadata": {
    "colab": {
      "name": "Copy of ML0101EN-Clus-K-Means-Image-Seg-py-v1.ipynb",
      "version": "0.3.2",
      "provenance": [],
      "collapsed_sections": []
    },
    "kernelspec": {
      "display_name": "Python 3",
      "language": "python",
      "name": "python3"
    }
  },
  "cells": [
    {
      "cell_type": "markdown",
      "metadata": {
        "button": false,
        "deletable": true,
        "new_sheet": false,
        "run_control": {
          "read_only": false
        },
        "id": "NF35WM8Szh7y",
        "colab_type": "text"
      },
      "source": [
        "<img src = \"https://imgur.com/s4wTnl7.jpg\" align = \"center\">\n",
        "\n",
        "# <center>K-Means Clustering for image Segmentation</center>"
      ]
    },
    {
      "cell_type": "markdown",
      "metadata": {
        "button": false,
        "deletable": true,
        "new_sheet": false,
        "run_control": {
          "read_only": false
        },
        "id": "xjkIhnCczh74",
        "colab_type": "text"
      },
      "source": [
        "## Introduction\n",
        "\n",
        "There are many models for **clustering** out there. In this notebook, we will be presenting the model that is considered the one of the simplest model among them. Despite its simplicity, the **K-means** is vastly used for clustering in many data science applications, especially useful if you need to quickly discover insights from **unlabeled data**. In this notebook, you learn how to use k-Means for customer segmentation.\n",
        "\n",
        "Some real-world applications of k-means:\n",
        "- Customer segmentation\n",
        "- Understand what the visitors of a website are trying to accomplish\n",
        "- Pattern recognition\n",
        "- Machine learning\n",
        "- Data compression\n",
        "\n",
        "\n",
        "In this notebook we practice k-means clustering with 2 examples:\n",
        "- k-means on a random generated dataset\n",
        "- Using k-means for customer segmentation"
      ]
    },
    {
      "cell_type": "markdown",
      "metadata": {
        "button": false,
        "deletable": true,
        "new_sheet": false,
        "run_control": {
          "read_only": false
        },
        "id": "YUTPofPozh77",
        "colab_type": "text"
      },
      "source": [
        "### Import libraries\n",
        "Lets first import the required libraries.\n",
        "Also run <b> %matplotlib inline </b> since we will be plotting in this section."
      ]
    },
    {
      "cell_type": "code",
      "metadata": {
        "button": false,
        "deletable": true,
        "new_sheet": false,
        "run_control": {
          "read_only": false
        },
        "id": "v8laG6iwzh7-",
        "colab_type": "code",
        "colab": {}
      },
      "source": [
        "import random \n",
        "import numpy as np \n",
        "import matplotlib.pyplot as plt \n",
        "from sklearn.cluster import KMeans \n",
        "from sklearn.datasets.samples_generator import make_blobs \n",
        "%matplotlib inline\n",
        "\n",
        "import sys\n",
        "from PIL import Image\n",
        "from sklearn import preprocessing\n",
        "from sklearn.metrics.pairwise import euclidean_distances"
      ],
      "execution_count": 0,
      "outputs": []
    },
    {
      "cell_type": "markdown",
      "metadata": {
        "id": "y_yYLMMMfurn",
        "colab_type": "text"
      },
      "source": [
        "### Chek and import Dataset"
      ]
    },
    {
      "cell_type": "markdown",
      "metadata": {
        "id": "6JjU0qgQhP1_",
        "colab_type": "text"
      },
      "source": [
        "Chek folder and file in google colab"
      ]
    },
    {
      "cell_type": "code",
      "metadata": {
        "id": "2BT3VgDlfuDt",
        "colab_type": "code",
        "outputId": "6c2aaf7e-e571-4c20-a58b-5f2fc4cfbd4b",
        "colab": {
          "base_uri": "https://localhost:8080/",
          "height": 35
        }
      },
      "source": [
        "!ls"
      ],
      "execution_count": 0,
      "outputs": [
        {
          "output_type": "stream",
          "text": [
            "Cust_Segmentation.csv  drug200.csv  h1.jpg  h2.jpeg  sample_data\n"
          ],
          "name": "stdout"
        }
      ]
    },
    {
      "cell_type": "markdown",
      "metadata": {
        "id": "UI6f2yyZg6K3",
        "colab_type": "text"
      },
      "source": [
        "if dataset h1 and h2 there is no in cloound please import using this code:\n",
        "\n",
        "<code> from google.colab import files\n",
        "uploaded = files.upload() </code>\n"
      ]
    },
    {
      "cell_type": "markdown",
      "metadata": {
        "button": false,
        "deletable": true,
        "new_sheet": false,
        "run_control": {
          "read_only": false
        },
        "id": "zUu5WSAVzh8L",
        "colab_type": "text"
      },
      "source": [
        "# k-Means for image segmentation\n",
        "Lets create our own dataset for this lab!\n"
      ]
    },
    {
      "cell_type": "markdown",
      "metadata": {
        "button": false,
        "deletable": true,
        "new_sheet": false,
        "run_control": {
          "read_only": false
        },
        "id": "nWV5DTAVzh8N",
        "colab_type": "text"
      },
      "source": [
        "Number of iteration"
      ]
    },
    {
      "cell_type": "code",
      "metadata": {
        "button": false,
        "deletable": true,
        "new_sheet": false,
        "run_control": {
          "read_only": false
        },
        "id": "S2eejKGlzh8Q",
        "colab_type": "code",
        "colab": {}
      },
      "source": [
        "iterations = 5\n"
      ],
      "execution_count": 0,
      "outputs": []
    },
    {
      "cell_type": "markdown",
      "metadata": {
        "button": false,
        "deletable": true,
        "new_sheet": false,
        "run_control": {
          "read_only": false
        },
        "id": "qxRnkgsSzh8X",
        "colab_type": "text"
      },
      "source": [
        "#\tOpen input image"
      ]
    },
    {
      "cell_type": "code",
      "metadata": {
        "button": false,
        "deletable": true,
        "new_sheet": false,
        "run_control": {
          "read_only": false
        },
        "id": "FHdEU52Ezh8Z",
        "colab_type": "code",
        "colab": {}
      },
      "source": [
        "#\tOpen input image\n",
        "image = Image.open(\"h2.jpeg\")\n",
        "imageW = image.size[0]\n",
        "imageH = image.size[1]"
      ],
      "execution_count": 0,
      "outputs": []
    },
    {
      "cell_type": "markdown",
      "metadata": {
        "button": false,
        "deletable": true,
        "new_sheet": false,
        "run_control": {
          "read_only": false
        },
        "id": "hoZnEXRnzh8k",
        "colab_type": "text"
      },
      "source": [
        "Chek all about in image"
      ]
    },
    {
      "cell_type": "code",
      "metadata": {
        "button": false,
        "deletable": true,
        "new_sheet": false,
        "run_control": {
          "read_only": false
        },
        "id": "OIi4Eg0czh8n",
        "colab_type": "code",
        "outputId": "5d03f118-19cc-4a58-cde7-01a8e29c21bf",
        "colab": {
          "base_uri": "https://localhost:8080/",
          "height": 35
        }
      },
      "source": [
        "print(image)"
      ],
      "execution_count": 0,
      "outputs": [
        {
          "output_type": "stream",
          "text": [
            "<PIL.JpegImagePlugin.JpegImageFile image mode=RGB size=612x344 at 0x7F44F6C3E5F8>\n"
          ],
          "name": "stdout"
        }
      ]
    },
    {
      "cell_type": "markdown",
      "metadata": {
        "id": "9iDWKvFLiNn9",
        "colab_type": "text"
      },
      "source": [
        "Create Dataset from image (DataVector and Initialize Cluster)"
      ]
    },
    {
      "cell_type": "code",
      "metadata": {
        "id": "pLXOoTH9iO91",
        "colab_type": "code",
        "colab": {}
      },
      "source": [
        "#\tInitialise data vector with attribute r,g,b,x,y for each pixel\n",
        "dataVector = np.ndarray(shape=(imageW * imageH, 5), dtype=float)\n",
        "#\tInitialise vector that holds which cluster a pixel is currently in\n",
        "pixelClusterAppartenance = np.ndarray(shape=(imageW * imageH), dtype=int)"
      ],
      "execution_count": 0,
      "outputs": []
    },
    {
      "cell_type": "markdown",
      "metadata": {
        "id": "7t5H9Wb1iYdZ",
        "colab_type": "text"
      },
      "source": [
        "Check all atribut dataset"
      ]
    },
    {
      "cell_type": "code",
      "metadata": {
        "id": "_qAYAe8riVb_",
        "colab_type": "code",
        "outputId": "5ffd0926-3e1c-4e49-de4e-cc5985242e9c",
        "colab": {
          "base_uri": "https://localhost:8080/",
          "height": 54
        }
      },
      "source": [
        "#print(dataVector)\n",
        "print(pixelClusterAppartenance)"
      ],
      "execution_count": 0,
      "outputs": [
        {
          "output_type": "stream",
          "text": [
            "[4653201915638920135 4653204250549407422 4653206684847419401 ...\n",
            "                   0                   0                   0]\n"
          ],
          "name": "stdout"
        }
      ]
    },
    {
      "cell_type": "markdown",
      "metadata": {
        "id": "TKunWUKLixRJ",
        "colab_type": "text"
      },
      "source": [
        "#reshape dataset\n",
        "Populate data vector with data from input image.\n",
        "\n",
        "DataVector has 5 fields: red, green, blue, x coord, y coord"
      ]
    },
    {
      "cell_type": "code",
      "metadata": {
        "id": "peOfdb0ai0jz",
        "colab_type": "code",
        "colab": {}
      },
      "source": [
        "#\tPopulate data vector with data from input image\n",
        "#\tdataVector has 5 fields: red, green, blue, x coord, y coord\n",
        "for y in range(0, imageH):\n",
        "      for x in range(0, imageW):\n",
        "      \txy = (x, y)\n",
        "      \trgb = image.getpixel(xy)\n",
        "      \tdataVector[x + y * imageW, 0] = rgb[0]\n",
        "      \tdataVector[x + y * imageW, 1] = rgb[1]\n",
        "      \tdataVector[x + y * imageW, 2] = rgb[2]\n",
        "      \tdataVector[x + y * imageW, 3] = x\n",
        "      \tdataVector[x + y * imageW, 4] = y"
      ],
      "execution_count": 0,
      "outputs": []
    },
    {
      "cell_type": "markdown",
      "metadata": {
        "id": "MANphf0-jJoF",
        "colab_type": "text"
      },
      "source": [
        "Cek dataVector"
      ]
    },
    {
      "cell_type": "code",
      "metadata": {
        "id": "yRwwpMkujMMx",
        "colab_type": "code",
        "outputId": "28f34c95-58cb-4906-aa3a-c2c8fabee1f7",
        "colab": {
          "base_uri": "https://localhost:8080/",
          "height": 146
        }
      },
      "source": [
        "print(dataVector)"
      ],
      "execution_count": 0,
      "outputs": [
        {
          "output_type": "stream",
          "text": [
            "[[234. 230. 227.   0.   0.]\n",
            " [234. 230. 227.   1.   0.]\n",
            " [233. 229. 226.   2.   0.]\n",
            " ...\n",
            " [240. 236. 235. 609. 343.]\n",
            " [240. 236. 235. 610. 343.]\n",
            " [240. 236. 235. 611. 343.]]\n"
          ],
          "name": "stdout"
        }
      ]
    },
    {
      "cell_type": "markdown",
      "metadata": {
        "id": "NBwqCXjpjZJa",
        "colab_type": "text"
      },
      "source": [
        "#\tStandarize the values of our features"
      ]
    },
    {
      "cell_type": "code",
      "metadata": {
        "id": "ohJPW7GJjYgP",
        "colab_type": "code",
        "colab": {}
      },
      "source": [
        "#\tStandarize the values of our features\n",
        "dataVector_scaled = preprocessing.normalize(dataVector)"
      ],
      "execution_count": 0,
      "outputs": []
    },
    {
      "cell_type": "markdown",
      "metadata": {
        "id": "nZU8r7wdje-9",
        "colab_type": "text"
      },
      "source": [
        "Cek Normalize DataVector"
      ]
    },
    {
      "cell_type": "code",
      "metadata": {
        "id": "PTh_SJfvjisa",
        "colab_type": "code",
        "outputId": "f724c20c-b4c1-44a4-ae1a-a4bc08c9069d",
        "colab": {
          "base_uri": "https://localhost:8080/",
          "height": 146
        }
      },
      "source": [
        "print(dataVector_scaled)"
      ],
      "execution_count": 0,
      "outputs": [
        {
          "output_type": "stream",
          "text": [
            "[[0.58649564 0.57647007 0.5689509  0.         0.        ]\n",
            " [0.5864938  0.57646826 0.56894911 0.00250638 0.        ]\n",
            " [0.58652788 0.57645873 0.56890687 0.00503457 0.        ]\n",
            " ...\n",
            " [0.29608179 0.2911471  0.28991342 0.75130755 0.42315023]\n",
            " [0.29580752 0.29087739 0.28964486 0.75184411 0.42275825]\n",
            " [0.29553356 0.290608   0.28937661 0.75237919 0.42236671]]\n"
          ],
          "name": "stdout"
        }
      ]
    },
    {
      "cell_type": "markdown",
      "metadata": {
        "id": "Qvgc5-14juds",
        "colab_type": "text"
      },
      "source": [
        "# Set Random Centers"
      ]
    },
    {
      "cell_type": "code",
      "metadata": {
        "id": "BrnjXyI2jpI9",
        "colab_type": "code",
        "colab": {}
      },
      "source": [
        "# Choose number of Cluster\n",
        "\n",
        "K = 5\n",
        "\n",
        "#\tSet centers\n",
        "minValue = np.amin(dataVector_scaled)\n",
        "maxValue = np.amax(dataVector_scaled)\n",
        "\n",
        "centers = np.ndarray(shape=(K,5))\n",
        "for index, center in enumerate(centers):\n",
        "\tcenters[index] = np.random.uniform(minValue, maxValue, 5)"
      ],
      "execution_count": 0,
      "outputs": []
    },
    {
      "cell_type": "markdown",
      "metadata": {
        "id": "eEgKhirakEQD",
        "colab_type": "text"
      },
      "source": [
        "Check initial Centers "
      ]
    },
    {
      "cell_type": "code",
      "metadata": {
        "id": "zjUd6SpakKu2",
        "colab_type": "code",
        "outputId": "04a01db8-b83b-4956-aca0-88d5a0de465d",
        "colab": {
          "base_uri": "https://localhost:8080/",
          "height": 109
        }
      },
      "source": [
        "print(centers)"
      ],
      "execution_count": 0,
      "outputs": [
        {
          "output_type": "stream",
          "text": [
            "[[0.9509351  0.51931384 0.28212965 0.23964142 0.64094786]\n",
            " [0.43385655 0.19387976 0.27810685 0.14752103 0.59768047]\n",
            " [0.70008379 0.53836617 0.59280541 0.6433986  0.34234705]\n",
            " [0.84891184 0.52301338 0.52133848 0.61600656 0.66989071]\n",
            " [0.83652712 0.69504871 0.14579655 0.85815107 0.31588473]]\n"
          ],
          "name": "stdout"
        }
      ]
    },
    {
      "cell_type": "code",
      "metadata": {
        "id": "u9piOjGanyr6",
        "colab_type": "code",
        "colab": {}
      },
      "source": [
        ""
      ],
      "execution_count": 0,
      "outputs": []
    },
    {
      "cell_type": "markdown",
      "metadata": {
        "button": false,
        "deletable": true,
        "new_sheet": false,
        "run_control": {
          "read_only": false
        },
        "id": "0BoY3lB8zh8u",
        "colab_type": "text"
      },
      "source": [
        "\n",
        "\n",
        "\n",
        "## Runnig K-Means\n",
        "let's run our K-Means Clustering without using sklear lib."
      ]
    },
    {
      "cell_type": "code",
      "metadata": {
        "button": false,
        "deletable": true,
        "new_sheet": false,
        "run_control": {
          "read_only": false
        },
        "id": "rV8tyXJPzh8z",
        "colab_type": "code",
        "outputId": "942701ca-e224-46f9-b1b0-51af5b7a09a9",
        "colab": {
          "base_uri": "https://localhost:8080/",
          "height": 568
        }
      },
      "source": [
        "for iteration in range(iterations):\n",
        "\t#\tSet pixels to their cluster\n",
        "\tfor idx, data in enumerate(dataVector_scaled):\n",
        "\t\tdistanceToCenters = np.ndarray(shape=(K))\n",
        "\t\tfor index, center in enumerate(centers):\n",
        "\t\t\tdistanceToCenters[index] = euclidean_distances(data.reshape(1, -1), center.reshape(1, -1))\n",
        "\t\tpixelClusterAppartenance[idx] = np.argmin(distanceToCenters)\n",
        "\n",
        "\t##################################################################################################\n",
        "\t#\tCheck if a cluster is ever empty, if so append a random datapoint to it\n",
        "\tclusterToCheck = np.arange(K)\t\t#contains an array with all clusters\n",
        "\t\t\t\t\t\t\t\t\t\t#e.g for K=10, array([0, 1, 2, 3, 4, 5, 6, 7, 8, 9])\n",
        "\tclustersEmpty = np.in1d(clusterToCheck, pixelClusterAppartenance)\n",
        "\t\t\t\t\t\t\t\t\t\t#^ [True True False True * n of clusters] False means empty\n",
        "\tfor index, item in enumerate(clustersEmpty):\n",
        "\t\tif item == False:\n",
        "\t\t\tpixelClusterAppartenance[np.random.randint(len(pixelClusterAppartenance))] = index\n",
        "\t\t\t# ^ sets a random pixel to that cluster as mentioned in the homework writeup\n",
        "\t##################################################################################################\n",
        "\n",
        "\t#\tMove centers to the centroid of their cluster\n",
        "\tfor i in range(K):\n",
        "\t\tdataInCenter = []\n",
        "\n",
        "\t\tfor index, item in enumerate(pixelClusterAppartenance):\n",
        "\t\t\tif item == i:\n",
        "\t\t\t\tdataInCenter.append(dataVector_scaled[index])\n",
        "\t\tdataInCenter = np.array(dataInCenter)\n",
        "\t\tcenters[i] = np.mean(dataInCenter, axis=0)\n",
        "\n",
        "\t#TODO check for convergence\n",
        "\tprint (\"Centers Iteration num\", iteration, \": \\n\", centers)"
      ],
      "execution_count": 0,
      "outputs": [
        {
          "output_type": "stream",
          "text": [
            "Centers Iteration num 0 : \n",
            " [[0.18167326 0.12493341 0.1033544  0.66291511 0.67495263]\n",
            " [0.38820087 0.35409417 0.33540413 0.40292055 0.57295882]\n",
            " [0.48886004 0.46267521 0.44676012 0.40519766 0.2745921 ]\n",
            " [0.34992854 0.32466055 0.30960395 0.79118631 0.17867978]\n",
            " [0.20817637 0.13012209 0.07818966 0.90441037 0.28057203]]\n",
            "Centers Iteration num 1 : \n",
            " [[0.20190193 0.14186992 0.11303355 0.69366729 0.63771643]\n",
            " [0.40475771 0.37748129 0.36377182 0.35141022 0.59672758]\n",
            " [0.5410714  0.52752316 0.51910328 0.21381406 0.26008721]\n",
            " [0.36257562 0.32931562 0.31023444 0.76667829 0.22571871]\n",
            " [0.20884473 0.1308062  0.07905302 0.90332471 0.286495  ]]\n",
            "Centers Iteration num 2 : \n",
            " [[0.20565923 0.1443892  0.11389157 0.69935393 0.62890211]\n",
            " [0.39635229 0.37452805 0.36520294 0.33458345 0.61960565]\n",
            " [0.54147814 0.53219084 0.5265757  0.18607054 0.26769665]\n",
            " [0.36883698 0.33301209 0.31225473 0.7558328  0.23842151]\n",
            " [0.21095435 0.13207574 0.0796017  0.9086405  0.26953864]]\n",
            "Centers Iteration num 3 : \n",
            " [[0.20427515 0.14237192 0.11087775 0.70729551 0.62172879]\n",
            " [0.38973183 0.36881636 0.36110362 0.33082683 0.63216973]\n",
            " [0.54084644 0.53163712 0.52610745 0.18500267 0.27091099]\n",
            " [0.36977146 0.33427202 0.31363316 0.75285669 0.2421029 ]\n",
            " [0.21503649 0.13500679 0.08177693 0.9114078  0.25643676]]\n",
            "Centers Iteration num 4 : \n",
            " [[0.20177857 0.13955978 0.10730634 0.71547288 0.61481793]\n",
            " [0.38307451 0.36158537 0.35426015 0.33659441 0.64121431]\n",
            " [0.54009474 0.53091037 0.52538829 0.1848063  0.27433747]\n",
            " [0.36999838 0.33481412 0.31433799 0.75173214 0.24348028]\n",
            " [0.21899003 0.13764196 0.08367934 0.91363816 0.24551351]]\n"
          ],
          "name": "stdout"
        }
      ]
    },
    {
      "cell_type": "markdown",
      "metadata": {
        "button": false,
        "deletable": true,
        "new_sheet": false,
        "run_control": {
          "read_only": false
        },
        "id": "987dCT-Izh86",
        "colab_type": "text"
      },
      "source": [
        "Reshape to original image matrix"
      ]
    },
    {
      "cell_type": "code",
      "metadata": {
        "button": false,
        "deletable": true,
        "new_sheet": false,
        "run_control": {
          "read_only": false
        },
        "scrolled": false,
        "id": "FZg6qETGzh89",
        "colab_type": "code",
        "colab": {}
      },
      "source": [
        "#\tset the pixels on original image to be that of the pixel's cluster's centroid\n",
        "for index, item in enumerate(pixelClusterAppartenance):\n",
        "\tdataVector[index][0] = int(round(centers[item][0] * 255))\n",
        "\tdataVector[index][1] = int(round(centers[item][1] * 255))\n",
        "\tdataVector[index][2] = int(round(centers[item][2] * 255))\n",
        "\n",
        "#\tSave image\n",
        "image = Image.new(\"RGB\", (imageW, imageH))\n",
        "\n",
        "for y in range(imageH):\n",
        "\tfor x in range(imageW):\n",
        "\t \timage.putpixel((x, y), (int(dataVector[y * imageW + x][0]), \n",
        "\t \t\t\t\t\t\t\tint(dataVector[y * imageW + x][1]),\n",
        "\t \t\t\t\t\t\t\tint(dataVector[y * imageW + x][2])))\n"
      ],
      "execution_count": 0,
      "outputs": []
    },
    {
      "cell_type": "markdown",
      "metadata": {
        "button": false,
        "deletable": true,
        "new_sheet": false,
        "run_control": {
          "read_only": false
        },
        "id": "qyYjgt_xzh9K",
        "colab_type": "text"
      },
      "source": [
        "Save Image"
      ]
    },
    {
      "cell_type": "code",
      "metadata": {
        "id": "YqRzwPlLsvTU",
        "colab_type": "code",
        "colab": {}
      },
      "source": [
        "image.save(\"output.jpg\")"
      ],
      "execution_count": 0,
      "outputs": []
    },
    {
      "cell_type": "markdown",
      "metadata": {
        "id": "4Wp8LUBxuxzy",
        "colab_type": "text"
      },
      "source": [
        "Check our cloud"
      ]
    },
    {
      "cell_type": "code",
      "metadata": {
        "id": "PuhgdjoouaLk",
        "colab_type": "code",
        "outputId": "46eb92f0-82ce-451b-a49e-1c65b54db0b0",
        "colab": {
          "base_uri": "https://localhost:8080/",
          "height": 35
        }
      },
      "source": [
        "!ls"
      ],
      "execution_count": 0,
      "outputs": [
        {
          "output_type": "stream",
          "text": [
            "Cust_Segmentation.csv  drug200.csv  h1.jpg  h2.jpeg  output.jpg  sample_data\n"
          ],
          "name": "stdout"
        }
      ]
    },
    {
      "cell_type": "markdown",
      "metadata": {
        "id": "mNJiginrusxJ",
        "colab_type": "text"
      },
      "source": [
        "Original Code:"
      ]
    },
    {
      "cell_type": "markdown",
      "metadata": {
        "id": "Uy0USZ88xDT0",
        "colab_type": "text"
      },
      "source": [
        "https://github.com/asselinpaul/ImageSeg-KMeans/blob/master/imageSegmentation.py"
      ]
    }
  ]
}